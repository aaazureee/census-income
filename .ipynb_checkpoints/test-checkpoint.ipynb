{
 "cells": [
  {
   "cell_type": "code",
   "execution_count": 1,
   "metadata": {},
   "outputs": [],
   "source": [
    "from IPython.display import display"
   ]
  },
  {
   "cell_type": "code",
   "execution_count": 2,
   "metadata": {},
   "outputs": [
    {
     "data": {
      "text/html": [
       "\n",
       "            <div>\n",
       "                <p><b>SparkSession - hive</b></p>\n",
       "                \n",
       "        <div>\n",
       "            <p><b>SparkContext</b></p>\n",
       "\n",
       "            <p><a href=\"http://Felt-PC:4040\">Spark UI</a></p>\n",
       "\n",
       "            <dl>\n",
       "              <dt>Version</dt>\n",
       "                <dd><code>v2.4.4</code></dd>\n",
       "              <dt>Master</dt>\n",
       "                <dd><code>local[*]</code></dd>\n",
       "              <dt>AppName</dt>\n",
       "                <dd><code>PySparkShell</code></dd>\n",
       "            </dl>\n",
       "        </div>\n",
       "        \n",
       "            </div>\n",
       "        "
      ],
      "text/plain": [
       "<pyspark.sql.session.SparkSession at 0x1e6a5ec0b38>"
      ]
     },
     "execution_count": 2,
     "metadata": {},
     "output_type": "execute_result"
    }
   ],
   "source": [
    "from pyspark.sql import SparkSession\n",
    "spark = SparkSession.builder.appName(\"test\").config(\"spark-master\", \"local\").getOrCreate()\n",
    "spark"
   ]
  },
  {
   "cell_type": "markdown",
   "metadata": {},
   "source": [
    "### Set up schema and read data from CSV"
   ]
  },
  {
   "cell_type": "code",
   "execution_count": 57,
   "metadata": {},
   "outputs": [
    {
     "name": "stdout",
     "output_type": "stream",
     "text": [
      "Train set shape: (199523,42)\n",
      "Test set shape: (99762, 42)\n"
     ]
    }
   ],
   "source": [
    "from pyspark.sql.types import *\n",
    "struct_fields_list = [\n",
    "    StructField(\"age\", IntegerType(), True),\n",
    "    StructField(\"class_of_worker\", StringType(), True),\n",
    "    StructField(\"industry_code\", StringType(), True),\n",
    "    StructField(\"occupation_code\", StringType(), True),\n",
    "    StructField(\"education\", StringType(), True),\n",
    "    StructField(\"wage_per_hr\", DoubleType(), True),\n",
    "    StructField(\"enrolled_in_edu_inst_last_wk\", StringType(), True),\n",
    "    StructField(\"marital_status\", StringType(), True),\n",
    "    StructField(\"major_industry_code\", StringType(), True),\n",
    "    StructField(\"major_occupation_code\", StringType(), True),\n",
    "    StructField(\"race\", StringType(), True),\n",
    "    StructField(\"hispanic_origin\", StringType(), True),\n",
    "    StructField(\"sex\", StringType(), True),\n",
    "    StructField(\"mem_labour_union\", StringType(), True),\n",
    "    StructField(\"unemployment_reason\", StringType(), True),\n",
    "    StructField(\"employment_status\", StringType(), True),\n",
    "    StructField(\"capital_gain\", DoubleType(), True),\n",
    "    StructField(\"capital_loss\", DoubleType(), True),\n",
    "    StructField(\"stock_dividends\", DoubleType(), True),\n",
    "    StructField(\"tax_filer_status\", StringType(), True),\n",
    "    StructField(\"prev_region\", StringType(), True),\n",
    "    StructField(\"prev_state\", StringType(), True),\n",
    "    StructField(\"household_status\", StringType(), True),\n",
    "    StructField(\"household_summary\", StringType(), True),\n",
    "    StructField(\"instance_weight\", DoubleType(), True),\n",
    "    StructField(\"migration_code_msa\", StringType(), True),\n",
    "    StructField(\"migration_code_region\", StringType(), True),\n",
    "    StructField(\"miragion_code_within_region\", StringType(), True),\n",
    "    StructField(\"live_in_this_house_one_year_ago\", StringType(), True),\n",
    "    StructField(\"migration_prev_res_in_sunbelt\", StringType(), True),\n",
    "    StructField(\"num_persons_for_employer\", IntegerType(), True),\n",
    "    StructField(\"parent\", StringType(), True),\n",
    "    StructField(\"birth_country_father\", StringType(), True),\n",
    "    StructField(\"birth_country_mother\", StringType(), True),\n",
    "    StructField(\"birth_country_self\", StringType(), True),\n",
    "    StructField(\"citizenship\", StringType(), True),\n",
    "    StructField(\"own_business\", StringType(), True),\n",
    "    StructField(\"veteran_QA\", StringType(), True),\n",
    "    StructField(\"veteran_benefits\", StringType(), True),\n",
    "    StructField(\"weeks_worked_in_yr\", IntegerType(), True),\n",
    "    StructField(\"year\", StringType(), True),\n",
    "    StructField(\"income\", StringType(), True),\n",
    "]\n",
    "\n",
    "schema = StructType(struct_fields_list)\n",
    "\n",
    "# read data, remove trailing and leading whitespace, set null value to ?\n",
    "spark_train = spark.read.csv(\"census-income.data\", \n",
    "                             schema=schema, \n",
    "                             ignoreLeadingWhiteSpace=True,\n",
    "                             ignoreTrailingWhiteSpace=True,\n",
    "                             nullValue=\"?\")\n",
    "spark_test = spark.read.csv(\"census-income.test\", schema=schema)\n",
    "\n",
    "TRAIN_SIZE = spark_train.count()\n",
    "TEST_SIZE = spark_test.count()\n",
    "\n",
    "print(\"Train set shape: ({},{})\".format(TRAIN_SIZE, len(spark_train.columns)))\n",
    "print(\"Test set shape: ({}, {})\".format(TEST_SIZE, len(spark_test.columns)))"
   ]
  },
  {
   "cell_type": "code",
   "execution_count": 59,
   "metadata": {},
   "outputs": [
    {
     "name": "stdout",
     "output_type": "stream",
     "text": [
      "Dataset shape: (299285, 41)\n",
      "\n",
      "-RECORD 0-------------------------------------------------------------------\n",
      " age                             | 73                                       \n",
      " class_of_worker                 | Not in universe                          \n",
      " industry_code                   | 0                                        \n",
      " occupation_code                 | 0                                        \n",
      " education                       | High school graduate                     \n",
      " wage_per_hr                     | 0.0                                      \n",
      " enrolled_in_edu_inst_last_wk    | Not in universe                          \n",
      " marital_status                  | Widowed                                  \n",
      " major_industry_code             | Not in universe or children              \n",
      " major_occupation_code           | Not in universe                          \n",
      " race                            | White                                    \n",
      " hispanic_origin                 | All other                                \n",
      " sex                             | Female                                   \n",
      " mem_labour_union                | Not in universe                          \n",
      " unemployment_reason             | Not in universe                          \n",
      " employment_status               | Not in labor force                       \n",
      " capital_gain                    | 0.0                                      \n",
      " capital_loss                    | 0.0                                      \n",
      " stock_dividends                 | 0.0                                      \n",
      " tax_filer_status                | Nonfiler                                 \n",
      " prev_region                     | Not in universe                          \n",
      " prev_state                      | Not in universe                          \n",
      " household_status                | Other Rel 18+ ever marr not in subfamily \n",
      " household_summary               | Other relative of householder            \n",
      " migration_code_msa              | null                                     \n",
      " migration_code_region           | null                                     \n",
      " miragion_code_within_region     | null                                     \n",
      " live_in_this_house_one_year_ago | Not in universe under 1 year old         \n",
      " migration_prev_res_in_sunbelt   | null                                     \n",
      " num_persons_for_employer        | 0                                        \n",
      " parent                          | Not in universe                          \n",
      " birth_country_father            | United-States                            \n",
      " birth_country_mother            | United-States                            \n",
      " birth_country_self              | United-States                            \n",
      " citizenship                     | Native- Born in the United States        \n",
      " own_business                    | 0                                        \n",
      " veteran_QA                      | Not in universe                          \n",
      " veteran_benefits                | 2                                        \n",
      " weeks_worked_in_yr              | 0                                        \n",
      " year                            | 95                                       \n",
      " income                          | - 50000.                                 \n",
      "-RECORD 1-------------------------------------------------------------------\n",
      " age                             | 58                                       \n",
      " class_of_worker                 | Self-employed-not incorporated           \n",
      " industry_code                   | 4                                        \n",
      " occupation_code                 | 34                                       \n",
      " education                       | Some college but no degree               \n",
      " wage_per_hr                     | 0.0                                      \n",
      " enrolled_in_edu_inst_last_wk    | Not in universe                          \n",
      " marital_status                  | Divorced                                 \n",
      " major_industry_code             | Construction                             \n",
      " major_occupation_code           | Precision production craft & repair      \n",
      " race                            | White                                    \n",
      " hispanic_origin                 | All other                                \n",
      " sex                             | Male                                     \n",
      " mem_labour_union                | Not in universe                          \n",
      " unemployment_reason             | Not in universe                          \n",
      " employment_status               | Children or Armed Forces                 \n",
      " capital_gain                    | 0.0                                      \n",
      " capital_loss                    | 0.0                                      \n",
      " stock_dividends                 | 0.0                                      \n",
      " tax_filer_status                | Head of household                        \n",
      " prev_region                     | South                                    \n",
      " prev_state                      | Arkansas                                 \n",
      " household_status                | Householder                              \n",
      " household_summary               | Householder                              \n",
      " migration_code_msa              | MSA to MSA                               \n",
      " migration_code_region           | Same county                              \n",
      " miragion_code_within_region     | Same county                              \n",
      " live_in_this_house_one_year_ago | No                                       \n",
      " migration_prev_res_in_sunbelt   | Yes                                      \n",
      " num_persons_for_employer        | 1                                        \n",
      " parent                          | Not in universe                          \n",
      " birth_country_father            | United-States                            \n",
      " birth_country_mother            | United-States                            \n",
      " birth_country_self              | United-States                            \n",
      " citizenship                     | Native- Born in the United States        \n",
      " own_business                    | 0                                        \n",
      " veteran_QA                      | Not in universe                          \n",
      " veteran_benefits                | 2                                        \n",
      " weeks_worked_in_yr              | 52                                       \n",
      " year                            | 94                                       \n",
      " income                          | - 50000.                                 \n",
      "-RECORD 2-------------------------------------------------------------------\n",
      " age                             | 18                                       \n",
      " class_of_worker                 | Not in universe                          \n",
      " industry_code                   | 0                                        \n",
      " occupation_code                 | 0                                        \n",
      " education                       | 10th grade                               \n",
      " wage_per_hr                     | 0.0                                      \n",
      " enrolled_in_edu_inst_last_wk    | High school                              \n",
      " marital_status                  | Never married                            \n",
      " major_industry_code             | Not in universe or children              \n",
      " major_occupation_code           | Not in universe                          \n",
      " race                            | Asian or Pacific Islander                \n",
      " hispanic_origin                 | All other                                \n",
      " sex                             | Female                                   \n",
      " mem_labour_union                | Not in universe                          \n",
      " unemployment_reason             | Not in universe                          \n",
      " employment_status               | Not in labor force                       \n",
      " capital_gain                    | 0.0                                      \n",
      " capital_loss                    | 0.0                                      \n",
      " stock_dividends                 | 0.0                                      \n",
      " tax_filer_status                | Nonfiler                                 \n",
      " prev_region                     | Not in universe                          \n",
      " prev_state                      | Not in universe                          \n",
      " household_status                | Child 18+ never marr Not in a subfamily  \n",
      " household_summary               | Child 18 or older                        \n",
      " migration_code_msa              | null                                     \n",
      " migration_code_region           | null                                     \n",
      " miragion_code_within_region     | null                                     \n",
      " live_in_this_house_one_year_ago | Not in universe under 1 year old         \n",
      " migration_prev_res_in_sunbelt   | null                                     \n",
      " num_persons_for_employer        | 0                                        \n",
      " parent                          | Not in universe                          \n",
      " birth_country_father            | Vietnam                                  \n",
      " birth_country_mother            | Vietnam                                  \n",
      " birth_country_self              | Vietnam                                  \n",
      " citizenship                     | Foreign born- Not a citizen of U S       \n",
      " own_business                    | 0                                        \n",
      " veteran_QA                      | Not in universe                          \n",
      " veteran_benefits                | 2                                        \n",
      " weeks_worked_in_yr              | 0                                        \n",
      " year                            | 95                                       \n",
      " income                          | - 50000.                                 \n",
      "-RECORD 3-------------------------------------------------------------------\n",
      " age                             | 9                                        \n",
      " class_of_worker                 | Not in universe                          \n",
      " industry_code                   | 0                                        \n",
      " occupation_code                 | 0                                        \n",
      " education                       | Children                                 \n",
      " wage_per_hr                     | 0.0                                      \n",
      " enrolled_in_edu_inst_last_wk    | Not in universe                          \n",
      " marital_status                  | Never married                            \n",
      " major_industry_code             | Not in universe or children              \n",
      " major_occupation_code           | Not in universe                          \n",
      " race                            | White                                    \n",
      " hispanic_origin                 | All other                                \n",
      " sex                             | Female                                   \n",
      " mem_labour_union                | Not in universe                          \n",
      " unemployment_reason             | Not in universe                          \n",
      " employment_status               | Children or Armed Forces                 \n",
      " capital_gain                    | 0.0                                      \n",
      " capital_loss                    | 0.0                                      \n",
      " stock_dividends                 | 0.0                                      \n",
      " tax_filer_status                | Nonfiler                                 \n",
      " prev_region                     | Not in universe                          \n",
      " prev_state                      | Not in universe                          \n",
      " household_status                | Child <18 never marr not in subfamily    \n",
      " household_summary               | Child under 18 never married             \n",
      " migration_code_msa              | Nonmover                                 \n",
      " migration_code_region           | Nonmover                                 \n",
      " miragion_code_within_region     | Nonmover                                 \n",
      " live_in_this_house_one_year_ago | Yes                                      \n",
      " migration_prev_res_in_sunbelt   | Not in universe                          \n",
      " num_persons_for_employer        | 0                                        \n",
      " parent                          | Both parents present                     \n",
      " birth_country_father            | United-States                            \n",
      " birth_country_mother            | United-States                            \n",
      " birth_country_self              | United-States                            \n",
      " citizenship                     | Native- Born in the United States        \n",
      " own_business                    | 0                                        \n",
      " veteran_QA                      | Not in universe                          \n",
      " veteran_benefits                | 0                                        \n",
      " weeks_worked_in_yr              | 0                                        \n",
      " year                            | 94                                       \n",
      " income                          | - 50000.                                 \n",
      "-RECORD 4-------------------------------------------------------------------\n",
      " age                             | 10                                       \n",
      " class_of_worker                 | Not in universe                          \n",
      " industry_code                   | 0                                        \n",
      " occupation_code                 | 0                                        \n",
      " education                       | Children                                 \n",
      " wage_per_hr                     | 0.0                                      \n",
      " enrolled_in_edu_inst_last_wk    | Not in universe                          \n",
      " marital_status                  | Never married                            \n",
      " major_industry_code             | Not in universe or children              \n",
      " major_occupation_code           | Not in universe                          \n",
      " race                            | White                                    \n",
      " hispanic_origin                 | All other                                \n",
      " sex                             | Female                                   \n",
      " mem_labour_union                | Not in universe                          \n",
      " unemployment_reason             | Not in universe                          \n",
      " employment_status               | Children or Armed Forces                 \n",
      " capital_gain                    | 0.0                                      \n",
      " capital_loss                    | 0.0                                      \n",
      " stock_dividends                 | 0.0                                      \n",
      " tax_filer_status                | Nonfiler                                 \n",
      " prev_region                     | Not in universe                          \n",
      " prev_state                      | Not in universe                          \n",
      " household_status                | Child <18 never marr not in subfamily    \n",
      " household_summary               | Child under 18 never married             \n",
      " migration_code_msa              | Nonmover                                 \n",
      " migration_code_region           | Nonmover                                 \n",
      " miragion_code_within_region     | Nonmover                                 \n",
      " live_in_this_house_one_year_ago | Yes                                      \n",
      " migration_prev_res_in_sunbelt   | Not in universe                          \n",
      " num_persons_for_employer        | 0                                        \n",
      " parent                          | Both parents present                     \n",
      " birth_country_father            | United-States                            \n",
      " birth_country_mother            | United-States                            \n",
      " birth_country_self              | United-States                            \n",
      " citizenship                     | Native- Born in the United States        \n",
      " own_business                    | 0                                        \n",
      " veteran_QA                      | Not in universe                          \n",
      " veteran_benefits                | 0                                        \n",
      " weeks_worked_in_yr              | 0                                        \n",
      " year                            | 94                                       \n",
      " income                          | - 50000.                                 \n",
      "only showing top 5 rows\n",
      "\n"
     ]
    }
   ],
   "source": [
    "# Get full dataset \n",
    "spark_ds = spark_train.union(spark_test)\n",
    "# Drop instance_weight column (according to dataset description)\n",
    "spark_ds = spark_ds.drop(\"instance_weight\")\n",
    "# Full dataset shape\n",
    "print(\"Dataset shape: ({}, {})\".format(spark_ds.count(), len(spark_ds.columns)))\n",
    "print()\n",
    "# Print first 5 rows\n",
    "spark_ds.show(5, truncate=False, vertical=True)"
   ]
  },
  {
   "cell_type": "code",
   "execution_count": 60,
   "metadata": {},
   "outputs": [
    {
     "name": "stdout",
     "output_type": "stream",
     "text": [
      "Nominal columns: ['class_of_worker', 'industry_code', 'occupation_code', 'education', 'enrolled_in_edu_inst_last_wk', 'marital_status', 'major_industry_code', 'major_occupation_code', 'race', 'hispanic_origin', 'sex', 'mem_labour_union', 'unemployment_reason', 'employment_status', 'tax_filer_status', 'prev_region', 'prev_state', 'household_status', 'household_summary', 'migration_code_msa', 'migration_code_region', 'miragion_code_within_region', 'live_in_this_house_one_year_ago', 'migration_prev_res_in_sunbelt', 'parent', 'birth_country_father', 'birth_country_mother', 'birth_country_self', 'citizenship', 'own_business', 'veteran_QA', 'veteran_benefits', 'year']\n",
      "\n",
      "Numeric columns: ['age', 'wage_per_hr', 'capital_gain', 'capital_loss', 'stock_dividends', 'num_persons_for_employer', 'weeks_worked_in_yr']\n"
     ]
    }
   ],
   "source": [
    "target_col = \"income\"\n",
    "nominal_cols = [x[0] for x in spark_ds.dtypes if x[1] == \"string\" and x[0] != target_col]\n",
    "numeric_cols = [x[0] for x in spark_ds.dtypes if x[1] != \"string\"]\n",
    "\n",
    "print(\"Nominal columns:\", nominal_cols)\n",
    "print()\n",
    "print(\"Numeric columns:\", numeric_cols)"
   ]
  },
  {
   "cell_type": "code",
   "execution_count": 87,
   "metadata": {},
   "outputs": [
    {
     "name": "stdout",
     "output_type": "stream",
     "text": [
      "+-----+-----------+------------+------------+---------------+------------------------+------------------+\n",
      "|  age|wage_per_hr|capital_gain|capital_loss|stock_dividends|num_persons_for_employer|weeks_worked_in_yr|\n",
      "+-----+-----------+------------+------------+---------------+------------------------+------------------+\n",
      "|99762|      99762|       99762|       99762|          99762|                   99762|             99762|\n",
      "+-----+-----------+------------+------------+---------------+------------------------+------------------+\n",
      "\n"
     ]
    }
   ],
   "source": [
    "from pyspark.sql.functions import *\n",
    "\n",
    "spark_ds.select([count(when(col(c).isNull(), c)).alias(c) for c in numeric_cols]).show()\n",
    "\n",
    "# df.select([count(when(isnan(c) | col(c).isNull(), c)).alias(c) for c in df.columns]).show()"
   ]
  },
  {
   "cell_type": "code",
   "execution_count": 89,
   "metadata": {},
   "outputs": [
    {
     "data": {
      "text/plain": [
       "99762"
      ]
     },
     "execution_count": 89,
     "metadata": {},
     "output_type": "execute_result"
    }
   ],
   "source": [
    "spark_test.count()"
   ]
  },
  {
   "cell_type": "code",
   "execution_count": null,
   "metadata": {},
   "outputs": [],
   "source": []
  },
  {
   "cell_type": "markdown",
   "metadata": {},
   "source": [
    "### Convert to pandas dataframe"
   ]
  },
  {
   "cell_type": "code",
   "execution_count": 82,
   "metadata": {},
   "outputs": [
    {
     "data": {
      "text/plain": [
       "(199523, 41)"
      ]
     },
     "execution_count": 82,
     "metadata": {},
     "output_type": "execute_result"
    },
    {
     "data": {
      "text/plain": [
       "(99762, 41)"
      ]
     },
     "execution_count": 82,
     "metadata": {},
     "output_type": "execute_result"
    }
   ],
   "source": [
    "import pandas as pd\n",
    "pd.set_option('display.max_columns', 50)\n",
    "# Pandas dataframe\n",
    "pd_dataset = spark_ds.toPandas()\n",
    "# To get train and test set\n",
    "pd_train = pd_dataset.iloc[:TRAIN_SIZE, :]\n",
    "pd_test = pd_dataset.iloc[TRAIN_SIZE:, :]\n",
    "\n",
    "pd_train.shape\n",
    "pd_test.shape\n",
    "# pd_dataset.dtypes"
   ]
  }
 ],
 "metadata": {
  "kernelspec": {
   "display_name": "Python 3",
   "language": "python",
   "name": "python3"
  },
  "language_info": {
   "codemirror_mode": {
    "name": "ipython",
    "version": 3
   },
   "file_extension": ".py",
   "mimetype": "text/x-python",
   "name": "python",
   "nbconvert_exporter": "python",
   "pygments_lexer": "ipython3",
   "version": "3.7.3"
  }
 },
 "nbformat": 4,
 "nbformat_minor": 2
}
