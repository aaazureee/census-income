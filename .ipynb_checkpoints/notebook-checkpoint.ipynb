{
 "cells": [
  {
   "cell_type": "code",
   "execution_count": 1,
   "metadata": {},
   "outputs": [],
   "source": [
    "from IPython.display import display\n",
    "from IPython.core.interactiveshell import InteractiveShell\n",
    "InteractiveShell.ast_node_interactivity = \"last\"\n",
    "import matplotlib.pyplot as plt\n",
    "import numpy as np"
   ]
  },
  {
   "cell_type": "code",
   "execution_count": 2,
   "metadata": {},
   "outputs": [
    {
     "data": {
      "text/html": [
       "\n",
       "            <div>\n",
       "                <p><b>SparkSession - hive</b></p>\n",
       "                \n",
       "        <div>\n",
       "            <p><b>SparkContext</b></p>\n",
       "\n",
       "            <p><a href=\"http://Felt-PC:4040\">Spark UI</a></p>\n",
       "\n",
       "            <dl>\n",
       "              <dt>Version</dt>\n",
       "                <dd><code>v2.4.4</code></dd>\n",
       "              <dt>Master</dt>\n",
       "                <dd><code>local[*]</code></dd>\n",
       "              <dt>AppName</dt>\n",
       "                <dd><code>PySparkShell</code></dd>\n",
       "            </dl>\n",
       "        </div>\n",
       "        \n",
       "            </div>\n",
       "        "
      ],
      "text/plain": [
       "<pyspark.sql.session.SparkSession at 0x2392c120b38>"
      ]
     },
     "execution_count": 2,
     "metadata": {},
     "output_type": "execute_result"
    }
   ],
   "source": [
    "from pyspark.sql import SparkSession\n",
    "spark = SparkSession.builder.appName(\"census-income\").config(\"spark-master\", \"local\").getOrCreate()\n",
    "spark"
   ]
  },
  {
   "cell_type": "markdown",
   "metadata": {},
   "source": [
    "### Set up schema and read data from CSV"
   ]
  },
  {
   "cell_type": "code",
   "execution_count": 3,
   "metadata": {},
   "outputs": [
    {
     "name": "stdout",
     "output_type": "stream",
     "text": [
      "Train set shape: (199523,42)\n",
      "Test set shape: (99762, 42)\n"
     ]
    }
   ],
   "source": [
    "from pyspark.sql.types import *\n",
    "struct_fields_list = [\n",
    "    StructField(\"age\", IntegerType(), True),\n",
    "    StructField(\"class_of_worker\", StringType(), True),\n",
    "    StructField(\"industry_code\", StringType(), True),\n",
    "    StructField(\"occupation_code\", StringType(), True),\n",
    "    StructField(\"education\", StringType(), True),\n",
    "    StructField(\"wage_per_hr\", DoubleType(), True),\n",
    "    StructField(\"enrolled_in_edu_inst_last_wk\", StringType(), True),\n",
    "    StructField(\"marital_status\", StringType(), True),\n",
    "    StructField(\"major_industry_code\", StringType(), True),\n",
    "    StructField(\"major_occupation_code\", StringType(), True),\n",
    "    StructField(\"race\", StringType(), True),\n",
    "    StructField(\"hispanic_origin\", StringType(), True),\n",
    "    StructField(\"sex\", StringType(), True),\n",
    "    StructField(\"mem_labour_union\", StringType(), True),\n",
    "    StructField(\"unemployment_reason\", StringType(), True),\n",
    "    StructField(\"employment_status\", StringType(), True),\n",
    "    StructField(\"capital_gain\", DoubleType(), True),\n",
    "    StructField(\"capital_loss\", DoubleType(), True),\n",
    "    StructField(\"stock_dividends\", DoubleType(), True),\n",
    "    StructField(\"tax_filer_status\", StringType(), True),\n",
    "    StructField(\"prev_region\", StringType(), True),\n",
    "    StructField(\"prev_state\", StringType(), True),\n",
    "    StructField(\"household_status\", StringType(), True),\n",
    "    StructField(\"household_summary\", StringType(), True),\n",
    "    StructField(\"instance_weight\", DoubleType(), True),\n",
    "    StructField(\"migration_code_msa\", StringType(), True),\n",
    "    StructField(\"migration_code_region\", StringType(), True),\n",
    "    StructField(\"migration_code_within_region\", StringType(), True),\n",
    "    StructField(\"live_in_this_house_one_year_ago\", StringType(), True),\n",
    "    StructField(\"migration_prev_res_in_sunbelt\", StringType(), True),\n",
    "    StructField(\"num_persons_for_employer\", IntegerType(), True),\n",
    "    StructField(\"parent\", StringType(), True),\n",
    "    StructField(\"birth_country_father\", StringType(), True),\n",
    "    StructField(\"birth_country_mother\", StringType(), True),\n",
    "    StructField(\"birth_country_self\", StringType(), True),\n",
    "    StructField(\"citizenship\", StringType(), True),\n",
    "    StructField(\"own_business\", StringType(), True),\n",
    "    StructField(\"veteran_QA\", StringType(), True),\n",
    "    StructField(\"veteran_benefits\", StringType(), True),\n",
    "    StructField(\"weeks_worked_in_yr\", IntegerType(), True),\n",
    "    StructField(\"year\", StringType(), True),\n",
    "    StructField(\"income\", StringType(), True),\n",
    "]\n",
    "\n",
    "schema = StructType(struct_fields_list)\n",
    "\n",
    "# read data, remove trailing and leading whitespace, set null value to ?\n",
    "spark_train = spark.read.csv(\"census-income.data\", \n",
    "                             schema=schema, \n",
    "                             ignoreLeadingWhiteSpace=True,\n",
    "                             ignoreTrailingWhiteSpace=True,\n",
    "                             nullValue=\"?\")\n",
    "spark_test = spark.read.csv(\"census-income.test\", \n",
    "                             schema=schema, \n",
    "                             ignoreLeadingWhiteSpace=True,\n",
    "                             ignoreTrailingWhiteSpace=True,\n",
    "                             nullValue=\"?\")\n",
    "\n",
    "TRAIN_SIZE = spark_train.count()\n",
    "TEST_SIZE = spark_test.count()\n",
    "\n",
    "print(\"Train set shape: ({},{})\".format(TRAIN_SIZE, len(spark_train.columns)))\n",
    "print(\"Test set shape: ({}, {})\".format(TEST_SIZE, len(spark_test.columns)))"
   ]
  },
  {
   "cell_type": "code",
   "execution_count": 4,
   "metadata": {},
   "outputs": [
    {
     "name": "stdout",
     "output_type": "stream",
     "text": [
      "Dataset shape: (299285, 41)\n",
      "\n",
      "-RECORD 0-------------------------------------------------------------------\n",
      " age                             | 73                                       \n",
      " class_of_worker                 | Not in universe                          \n",
      " industry_code                   | 0                                        \n",
      " occupation_code                 | 0                                        \n",
      " education                       | High school graduate                     \n",
      " wage_per_hr                     | 0.0                                      \n",
      " enrolled_in_edu_inst_last_wk    | Not in universe                          \n",
      " marital_status                  | Widowed                                  \n",
      " major_industry_code             | Not in universe or children              \n",
      " major_occupation_code           | Not in universe                          \n",
      " race                            | White                                    \n",
      " hispanic_origin                 | All other                                \n",
      " sex                             | Female                                   \n",
      " mem_labour_union                | Not in universe                          \n",
      " unemployment_reason             | Not in universe                          \n",
      " employment_status               | Not in labor force                       \n",
      " capital_gain                    | 0.0                                      \n",
      " capital_loss                    | 0.0                                      \n",
      " stock_dividends                 | 0.0                                      \n",
      " tax_filer_status                | Nonfiler                                 \n",
      " prev_region                     | Not in universe                          \n",
      " prev_state                      | Not in universe                          \n",
      " household_status                | Other Rel 18+ ever marr not in subfamily \n",
      " household_summary               | Other relative of householder            \n",
      " migration_code_msa              | null                                     \n",
      " migration_code_region           | null                                     \n",
      " migration_code_within_region    | null                                     \n",
      " live_in_this_house_one_year_ago | Not in universe under 1 year old         \n",
      " migration_prev_res_in_sunbelt   | null                                     \n",
      " num_persons_for_employer        | 0                                        \n",
      " parent                          | Not in universe                          \n",
      " birth_country_father            | United-States                            \n",
      " birth_country_mother            | United-States                            \n",
      " birth_country_self              | United-States                            \n",
      " citizenship                     | Native- Born in the United States        \n",
      " own_business                    | 0                                        \n",
      " veteran_QA                      | Not in universe                          \n",
      " veteran_benefits                | 2                                        \n",
      " weeks_worked_in_yr              | 0                                        \n",
      " year                            | 95                                       \n",
      " income                          | - 50000.                                 \n",
      "-RECORD 1-------------------------------------------------------------------\n",
      " age                             | 58                                       \n",
      " class_of_worker                 | Self-employed-not incorporated           \n",
      " industry_code                   | 4                                        \n",
      " occupation_code                 | 34                                       \n",
      " education                       | Some college but no degree               \n",
      " wage_per_hr                     | 0.0                                      \n",
      " enrolled_in_edu_inst_last_wk    | Not in universe                          \n",
      " marital_status                  | Divorced                                 \n",
      " major_industry_code             | Construction                             \n",
      " major_occupation_code           | Precision production craft & repair      \n",
      " race                            | White                                    \n",
      " hispanic_origin                 | All other                                \n",
      " sex                             | Male                                     \n",
      " mem_labour_union                | Not in universe                          \n",
      " unemployment_reason             | Not in universe                          \n",
      " employment_status               | Children or Armed Forces                 \n",
      " capital_gain                    | 0.0                                      \n",
      " capital_loss                    | 0.0                                      \n",
      " stock_dividends                 | 0.0                                      \n",
      " tax_filer_status                | Head of household                        \n",
      " prev_region                     | South                                    \n",
      " prev_state                      | Arkansas                                 \n",
      " household_status                | Householder                              \n",
      " household_summary               | Householder                              \n",
      " migration_code_msa              | MSA to MSA                               \n",
      " migration_code_region           | Same county                              \n",
      " migration_code_within_region    | Same county                              \n",
      " live_in_this_house_one_year_ago | No                                       \n",
      " migration_prev_res_in_sunbelt   | Yes                                      \n",
      " num_persons_for_employer        | 1                                        \n",
      " parent                          | Not in universe                          \n",
      " birth_country_father            | United-States                            \n",
      " birth_country_mother            | United-States                            \n",
      " birth_country_self              | United-States                            \n",
      " citizenship                     | Native- Born in the United States        \n",
      " own_business                    | 0                                        \n",
      " veteran_QA                      | Not in universe                          \n",
      " veteran_benefits                | 2                                        \n",
      " weeks_worked_in_yr              | 52                                       \n",
      " year                            | 94                                       \n",
      " income                          | - 50000.                                 \n",
      "-RECORD 2-------------------------------------------------------------------\n",
      " age                             | 18                                       \n",
      " class_of_worker                 | Not in universe                          \n",
      " industry_code                   | 0                                        \n",
      " occupation_code                 | 0                                        \n",
      " education                       | 10th grade                               \n",
      " wage_per_hr                     | 0.0                                      \n",
      " enrolled_in_edu_inst_last_wk    | High school                              \n",
      " marital_status                  | Never married                            \n",
      " major_industry_code             | Not in universe or children              \n",
      " major_occupation_code           | Not in universe                          \n",
      " race                            | Asian or Pacific Islander                \n",
      " hispanic_origin                 | All other                                \n",
      " sex                             | Female                                   \n",
      " mem_labour_union                | Not in universe                          \n",
      " unemployment_reason             | Not in universe                          \n",
      " employment_status               | Not in labor force                       \n",
      " capital_gain                    | 0.0                                      \n",
      " capital_loss                    | 0.0                                      \n",
      " stock_dividends                 | 0.0                                      \n",
      " tax_filer_status                | Nonfiler                                 \n",
      " prev_region                     | Not in universe                          \n",
      " prev_state                      | Not in universe                          \n",
      " household_status                | Child 18+ never marr Not in a subfamily  \n",
      " household_summary               | Child 18 or older                        \n",
      " migration_code_msa              | null                                     \n",
      " migration_code_region           | null                                     \n",
      " migration_code_within_region    | null                                     \n",
      " live_in_this_house_one_year_ago | Not in universe under 1 year old         \n",
      " migration_prev_res_in_sunbelt   | null                                     \n",
      " num_persons_for_employer        | 0                                        \n",
      " parent                          | Not in universe                          \n",
      " birth_country_father            | Vietnam                                  \n",
      " birth_country_mother            | Vietnam                                  \n",
      " birth_country_self              | Vietnam                                  \n",
      " citizenship                     | Foreign born- Not a citizen of U S       \n",
      " own_business                    | 0                                        \n",
      " veteran_QA                      | Not in universe                          \n",
      " veteran_benefits                | 2                                        \n",
      " weeks_worked_in_yr              | 0                                        \n",
      " year                            | 95                                       \n",
      " income                          | - 50000.                                 \n",
      "-RECORD 3-------------------------------------------------------------------\n",
      " age                             | 9                                        \n",
      " class_of_worker                 | Not in universe                          \n",
      " industry_code                   | 0                                        \n",
      " occupation_code                 | 0                                        \n",
      " education                       | Children                                 \n",
      " wage_per_hr                     | 0.0                                      \n",
      " enrolled_in_edu_inst_last_wk    | Not in universe                          \n",
      " marital_status                  | Never married                            \n",
      " major_industry_code             | Not in universe or children              \n",
      " major_occupation_code           | Not in universe                          \n",
      " race                            | White                                    \n",
      " hispanic_origin                 | All other                                \n",
      " sex                             | Female                                   \n",
      " mem_labour_union                | Not in universe                          \n",
      " unemployment_reason             | Not in universe                          \n",
      " employment_status               | Children or Armed Forces                 \n",
      " capital_gain                    | 0.0                                      \n",
      " capital_loss                    | 0.0                                      \n",
      " stock_dividends                 | 0.0                                      \n",
      " tax_filer_status                | Nonfiler                                 \n",
      " prev_region                     | Not in universe                          \n",
      " prev_state                      | Not in universe                          \n",
      " household_status                | Child <18 never marr not in subfamily    \n",
      " household_summary               | Child under 18 never married             \n",
      " migration_code_msa              | Nonmover                                 \n",
      " migration_code_region           | Nonmover                                 \n",
      " migration_code_within_region    | Nonmover                                 \n",
      " live_in_this_house_one_year_ago | Yes                                      \n",
      " migration_prev_res_in_sunbelt   | Not in universe                          \n",
      " num_persons_for_employer        | 0                                        \n",
      " parent                          | Both parents present                     \n",
      " birth_country_father            | United-States                            \n",
      " birth_country_mother            | United-States                            \n",
      " birth_country_self              | United-States                            \n",
      " citizenship                     | Native- Born in the United States        \n",
      " own_business                    | 0                                        \n",
      " veteran_QA                      | Not in universe                          \n",
      " veteran_benefits                | 0                                        \n",
      " weeks_worked_in_yr              | 0                                        \n",
      " year                            | 94                                       \n",
      " income                          | - 50000.                                 \n",
      "-RECORD 4-------------------------------------------------------------------\n",
      " age                             | 10                                       \n",
      " class_of_worker                 | Not in universe                          \n",
      " industry_code                   | 0                                        \n",
      " occupation_code                 | 0                                        \n",
      " education                       | Children                                 \n",
      " wage_per_hr                     | 0.0                                      \n",
      " enrolled_in_edu_inst_last_wk    | Not in universe                          \n",
      " marital_status                  | Never married                            \n",
      " major_industry_code             | Not in universe or children              \n",
      " major_occupation_code           | Not in universe                          \n",
      " race                            | White                                    \n",
      " hispanic_origin                 | All other                                \n",
      " sex                             | Female                                   \n",
      " mem_labour_union                | Not in universe                          \n",
      " unemployment_reason             | Not in universe                          \n",
      " employment_status               | Children or Armed Forces                 \n",
      " capital_gain                    | 0.0                                      \n",
      " capital_loss                    | 0.0                                      \n",
      " stock_dividends                 | 0.0                                      \n",
      " tax_filer_status                | Nonfiler                                 \n",
      " prev_region                     | Not in universe                          \n",
      " prev_state                      | Not in universe                          \n",
      " household_status                | Child <18 never marr not in subfamily    \n",
      " household_summary               | Child under 18 never married             \n",
      " migration_code_msa              | Nonmover                                 \n",
      " migration_code_region           | Nonmover                                 \n",
      " migration_code_within_region    | Nonmover                                 \n",
      " live_in_this_house_one_year_ago | Yes                                      \n",
      " migration_prev_res_in_sunbelt   | Not in universe                          \n",
      " num_persons_for_employer        | 0                                        \n",
      " parent                          | Both parents present                     \n",
      " birth_country_father            | United-States                            \n",
      " birth_country_mother            | United-States                            \n",
      " birth_country_self              | United-States                            \n",
      " citizenship                     | Native- Born in the United States        \n",
      " own_business                    | 0                                        \n",
      " veteran_QA                      | Not in universe                          \n",
      " veteran_benefits                | 0                                        \n",
      " weeks_worked_in_yr              | 0                                        \n",
      " year                            | 94                                       \n",
      " income                          | - 50000.                                 \n",
      "only showing top 5 rows\n",
      "\n"
     ]
    }
   ],
   "source": [
    "# Get full dataset \n",
    "spark_ds = spark_train.union(spark_test)\n",
    "# Drop instance_weight column (according to dataset description)\n",
    "spark_ds = spark_ds.drop(\"instance_weight\")\n",
    "DATASET_SIZE = spark_ds.count()\n",
    "# Full dataset shape\n",
    "print(\"Dataset shape: ({}, {})\".format(DATASET_SIZE, len(spark_ds.columns)))\n",
    "print()\n",
    "# Print first 5 rows\n",
    "spark_ds.show(5, truncate=False, vertical=True)"
   ]
  },
  {
   "cell_type": "code",
   "execution_count": 5,
   "metadata": {},
   "outputs": [
    {
     "name": "stdout",
     "output_type": "stream",
     "text": [
      "Nominal columns: ['class_of_worker', 'industry_code', 'occupation_code', 'education', 'enrolled_in_edu_inst_last_wk', 'marital_status', 'major_industry_code', 'major_occupation_code', 'race', 'hispanic_origin', 'sex', 'mem_labour_union', 'unemployment_reason', 'employment_status', 'tax_filer_status', 'prev_region', 'prev_state', 'household_status', 'household_summary', 'migration_code_msa', 'migration_code_region', 'migration_code_within_region', 'live_in_this_house_one_year_ago', 'migration_prev_res_in_sunbelt', 'parent', 'birth_country_father', 'birth_country_mother', 'birth_country_self', 'citizenship', 'own_business', 'veteran_QA', 'veteran_benefits', 'year']\n",
      "There are 33 nominal columns.\n",
      "\n",
      "Numeric columns: ['age', 'wage_per_hr', 'capital_gain', 'capital_loss', 'stock_dividends', 'num_persons_for_employer', 'weeks_worked_in_yr']\n",
      "There are 7 numeric columns.\n"
     ]
    }
   ],
   "source": [
    "target_col = \"income\"\n",
    "nominal_cols = [x[0] for x in spark_ds.dtypes if x[1] == \"string\" and x[0] != target_col]\n",
    "numeric_cols = [x[0] for x in spark_ds.dtypes if x[1] != \"string\" and x[0] != target_col]\n",
    "\n",
    "print(\"Nominal columns:\", nominal_cols)\n",
    "print(\"There are {} nominal columns.\".format(len(nominal_cols)))\n",
    "print()\n",
    "print(\"Numeric columns:\", numeric_cols)\n",
    "print(\"There are {} numeric columns.\".format(len(numeric_cols)))"
   ]
  },
  {
   "cell_type": "markdown",
   "metadata": {},
   "source": [
    "### Empty values preprocessing"
   ]
  },
  {
   "cell_type": "code",
   "execution_count": 6,
   "metadata": {
    "scrolled": true
   },
   "outputs": [
    {
     "name": "stdout",
     "output_type": "stream",
     "text": [
      "Empty values percentage in numeric columns:\n",
      "-RECORD 0-----------------------\n",
      " age                      | 0.0 \n",
      " wage_per_hr              | 0.0 \n",
      " capital_gain             | 0.0 \n",
      " capital_loss             | 0.0 \n",
      " stock_dividends          | 0.0 \n",
      " num_persons_for_employer | 0.0 \n",
      " weeks_worked_in_yr       | 0.0 \n",
      "\n",
      "Empty values percentage in nominal columns:\n",
      "-RECORD 0---------------------------------------------\n",
      " class_of_worker                 | 0.0                \n",
      " industry_code                   | 0.0                \n",
      " occupation_code                 | 0.0                \n",
      " education                       | 0.0                \n",
      " enrolled_in_edu_inst_last_wk    | 0.0                \n",
      " marital_status                  | 0.0                \n",
      " major_industry_code             | 0.0                \n",
      " major_occupation_code           | 0.0                \n",
      " race                            | 0.0                \n",
      " hispanic_origin                 | 0.0                \n",
      " sex                             | 0.0                \n",
      " mem_labour_union                | 0.0                \n",
      " unemployment_reason             | 0.0                \n",
      " employment_status               | 0.0                \n",
      " tax_filer_status                | 0.0                \n",
      " prev_region                     | 0.0                \n",
      " prev_state                      | 0.3468266034047814 \n",
      " household_status                | 0.0                \n",
      " household_summary               | 0.0                \n",
      " migration_code_msa              | 49.99983293516214  \n",
      " migration_code_region           | 49.99983293516214  \n",
      " migration_code_within_region    | 49.99983293516214  \n",
      " live_in_this_house_one_year_ago | 0.0                \n",
      " migration_prev_res_in_sunbelt   | 49.99983293516214  \n",
      " parent                          | 0.0                \n",
      " birth_country_father            | 3.388743171224752  \n",
      " birth_country_mother            | 3.070985849608233  \n",
      " birth_country_self              | 1.723106737724911  \n",
      " citizenship                     | 0.0                \n",
      " own_business                    | 0.0                \n",
      " veteran_QA                      | 0.0                \n",
      " veteran_benefits                | 0.0                \n",
      " year                            | 0.0                \n",
      "\n"
     ]
    }
   ],
   "source": [
    "from pyspark.sql.functions import *\n",
    "\n",
    "# Count null and empty values in each columns\n",
    "# In numeric columns\n",
    "print(\"Empty values percentage in numeric columns:\")\n",
    "spark_ds.select([(count(when((col(c).isNull()) | (col(c) == \"\"), c)) / DATASET_SIZE * 100)\\\n",
    "                 .alias(c) for c in numeric_cols]).show(vertical=True)\n",
    "# In nominal columns\n",
    "print(\"Empty values percentage in nominal columns:\")\n",
    "spark_ds.select([(count(when((col(c).isNull()) | (col(c) == \"\"), c)) / DATASET_SIZE * 100)\\\n",
    "                 .alias(c) for c in nominal_cols]).show(vertical=True)"
   ]
  },
  {
   "cell_type": "code",
   "execution_count": 7,
   "metadata": {},
   "outputs": [],
   "source": [
    "# spark_ds.select([(count(when((col(c).isNull()) | (col(c) == \"\") | (col(c) == \"Not in universe\"), c)) / DATASET_SIZE * 100)\\\n",
    "#                  .alias(c) for c in nominal_cols]).show(vertical=True)"
   ]
  },
  {
   "cell_type": "markdown",
   "metadata": {},
   "source": [
    "We can see that all numeric columns do not have empty values. Let's inspect nominal columns which have empty values and process them."
   ]
  },
  {
   "cell_type": "code",
   "execution_count": 8,
   "metadata": {},
   "outputs": [],
   "source": [
    "# Inspect columns with empty counts\n",
    "cols_with_empty_vals = [\"prev_state\", \"migration_code_msa\", \"migration_code_region\", \"migration_code_within_region\",\n",
    "                       \"migration_prev_res_in_sunbelt\", \"birth_country_father\", \"birth_country_mother\", \"birth_country_self\"]"
   ]
  },
  {
   "cell_type": "markdown",
   "metadata": {},
   "source": [
    "We can see from the output above that 4 columns (which start with migration_code*) have a really high percentage of missing values compared to all other columns (around 50% data missing). We will drop these columns because it might be misleading to include these columns in our classifier."
   ]
  },
  {
   "cell_type": "code",
   "execution_count": 9,
   "metadata": {
    "scrolled": true
   },
   "outputs": [
    {
     "name": "stdout",
     "output_type": "stream",
     "text": [
      "Unique values count of migration_code_msa column:\n",
      "+------------------+-------------------+\n",
      "|migration_code_msa|              count|\n",
      "+------------------+-------------------+\n",
      "|              null|  49.99983293516214|\n",
      "|          Nonmover| 41.411029620595755|\n",
      "|        MSA to MSA| 5.3093205473044085|\n",
      "|  NonMSA to nonMSA|  1.388308802646307|\n",
      "|   Not in universe| 0.7481163439530882|\n",
      "|     MSA to nonMSA| 0.3855856457891308|\n",
      "|     NonMSA to MSA| 0.3040580049117062|\n",
      "|  Not identifiable| 0.2105016957081043|\n",
      "|     Abroad to MSA|0.20682626927510567|\n",
      "|  Abroad to nonMSA|0.03642013465425931|\n",
      "+------------------+-------------------+\n",
      "\n",
      "Total number of columns after dropping: 37\n"
     ]
    }
   ],
   "source": [
    "# Notice that 4 columns: migration_code_* have a really high percentage of null values, ~50%\n",
    "# Inspect a sample migration_code_* column's unique values count\n",
    "print(\"Unique values count of migration_code_msa column:\")\n",
    "spark_ds.groupBy(\"migration_code_msa\")\\\n",
    "        .count()\\\n",
    "        .withColumn(\"count\", col(\"count\") / DATASET_SIZE * 100)\\\n",
    "        .orderBy(desc(\"count\")).show()\n",
    "\n",
    "# We will drop these columns\n",
    "redundant_cols = [\"migration_code_msa\", \"migration_code_region\", \"migration_code_within_region\",\n",
    "                         \"migration_prev_res_in_sunbelt\"]\n",
    "\n",
    "spark_ds = spark_ds.drop(*redundant_cols)\n",
    "cols_with_empty_vals = [c for c in cols_with_empty_vals if c not in redundant_cols]\n",
    "\n",
    "print(\"Total number of columns after dropping:\", len(spark_ds.columns))"
   ]
  },
  {
   "cell_type": "code",
   "execution_count": 10,
   "metadata": {},
   "outputs": [],
   "source": [
    "# helper function to get unique values percentage in each column\n",
    "def get_unique_values_percentage(col_name):\n",
    "    return spark_ds.groupBy(col_name)\\\n",
    "                    .count()\\\n",
    "                    .withColumn(\"count\", col(\"count\") / DATASET_SIZE * 100)\\\n",
    "                    .orderBy(desc(\"count\"))\n",
    "\n",
    "# helper function to get most frequent value from unique value counts list\n",
    "def get_most_freq_value(unique_counts, col_name):\n",
    "    return unique_counts\\\n",
    "            .orderBy(desc(\"count\"))\\\n",
    "            .select(col_name)\\\n",
    "            .collect()[0][col_name]\n",
    "\n",
    "# helper function to replace null values in column with new specified value\n",
    "def replace_nulls(col_name, new_value):\n",
    "    return spark_ds.withColumn(col_name, \\\n",
    "         when(col(col_name).isNull(), new_value).otherwise(col(col_name)))"
   ]
  },
  {
   "cell_type": "markdown",
   "metadata": {},
   "source": [
    "For remaining columns with lower percentage of null values, our strategy is to replace null values with the most frequent value in each corresponding column. "
   ]
  },
  {
   "cell_type": "code",
   "execution_count": 11,
   "metadata": {},
   "outputs": [
    {
     "name": "stdout",
     "output_type": "stream",
     "text": [
      "prev_state column unique values count:\n",
      "+---------------+-------------------+\n",
      "|     prev_state|              count|\n",
      "+---------------+-------------------+\n",
      "|Not in universe|  92.15897889971097|\n",
      "|     California|  0.868068897539135|\n",
      "|           Utah| 0.5336050921362581|\n",
      "|        Florida| 0.4340344487695675|\n",
      "| North Carolina|0.40429690762985115|\n",
      "|           null| 0.3468266034047814|\n",
      "|         Abroad| 0.3127453764806121|\n",
      "|       Oklahoma|0.30806756102043203|\n",
      "|      Minnesota| 0.2903586882068931|\n",
      "|        Indiana|0.27732763085353423|\n",
      "|   North Dakota|0.24224401490218353|\n",
      "|     New Mexico|0.23088360592746046|\n",
      "|       Michigan| 0.2138429924653758|\n",
      "|         Alaska|0.13832968575103996|\n",
      "|        Arizona| 0.1269692767763169|\n",
      "|       Kentucky|0.11961842391031959|\n",
      "|  New Hampshire|0.11961842391031959|\n",
      "|       Colorado|0.11794777553168385|\n",
      "|         Oregon|0.11560886780159381|\n",
      "|        Wyoming| 0.1149406084501395|\n",
      "+---------------+-------------------+\n",
      "only showing top 20 rows\n",
      "\n",
      "birth_country_father column unique values count:\n",
      "+--------------------+-------------------+\n",
      "|birth_country_father|              count|\n",
      "+--------------------+-------------------+\n",
      "|       United-States|  79.70028568087275|\n",
      "|              Mexico|  5.030656397747966|\n",
      "|                null|  3.388743171224752|\n",
      "|         Puerto-Rico|   1.32582655328533|\n",
      "|               Italy| 1.1129859498471357|\n",
      "|              Canada| 0.6816245384833854|\n",
      "|             Germany|  0.669595870157208|\n",
      "|  Dominican-Republic| 0.6585695908582121|\n",
      "|              Poland| 0.6151327330136825|\n",
      "|         Philippines| 0.5830562841438762|\n",
      "|                Cuba| 0.5723641345206074|\n",
      "|         El-Salvador| 0.4958484387790902|\n",
      "|               China| 0.4183303540103914|\n",
      "|             England|0.39226823930367377|\n",
      "|            Columbia| 0.3020532268573433|\n",
      "|               India|0.29637302236998175|\n",
      "|             Ireland|  0.272315685717627|\n",
      "|         South Korea|0.26262592512153965|\n",
      "|             Jamaica| 0.2385685884691849|\n",
      "|           Guatemala|0.22620579046728037|\n",
      "+--------------------+-------------------+\n",
      "only showing top 20 rows\n",
      "\n",
      "birth_country_mother column unique values count:\n",
      "+--------------------+-------------------+\n",
      "|birth_country_mother|              count|\n",
      "+--------------------+-------------------+\n",
      "|       United-States|  80.35551397497369|\n",
      "|              Mexico|  4.934427051138547|\n",
      "|                null|  3.070985849608233|\n",
      "|         Puerto-Rico| 1.2249193912157308|\n",
      "|               Italy| 0.9225320346826602|\n",
      "|              Canada| 0.7193811918405534|\n",
      "|             Germany|  0.687638872646474|\n",
      "|         Philippines| 0.6268272716641329|\n",
      "|                Cuba|  0.569356967439063|\n",
      "|              Poland| 0.5663498003575187|\n",
      "|         El-Salvador| 0.5486409275439798|\n",
      "|  Dominican-Republic| 0.5483067978682526|\n",
      "|             England| 0.4443924687171091|\n",
      "|               China|0.37689827422022487|\n",
      "|             Ireland| 0.3130795061563393|\n",
      "|         South Korea|0.30272148620879763|\n",
      "|            Columbia| 0.3010508378301619|\n",
      "|               India|0.29871193010007185|\n",
      "|               Japan| 0.2452511819837279|\n",
      "|             Vietnam|0.23723206976627628|\n",
      "+--------------------+-------------------+\n",
      "only showing top 20 rows\n",
      "\n",
      "birth_country_self column unique values count:\n",
      "+------------------+-------------------+\n",
      "|birth_country_self|              count|\n",
      "+------------------+-------------------+\n",
      "|     United-States|  88.65863641679336|\n",
      "|            Mexico|  2.907930567853384|\n",
      "|              null|  1.723106737724911|\n",
      "|       Puerto-Rico| 0.6989992816211972|\n",
      "|       Philippines| 0.4340344487695675|\n",
      "|           Germany| 0.4246788178492073|\n",
      "|              Cuba|0.42267403979484436|\n",
      "|            Canada| 0.3494996408105986|\n",
      "|       El-Salvador| 0.3448218253504185|\n",
      "|Dominican-Republic|0.33980988021451125|\n",
      "|             China|  0.238902718144912|\n",
      "|       South Korea|0.23622968073909487|\n",
      "|           England| 0.2278764388459161|\n",
      "|          Columbia|0.21551364084401156|\n",
      "|             Italy|0.21551364084401156|\n",
      "|             India| 0.2091651770051957|\n",
      "|           Vietnam| 0.1914563041916568|\n",
      "|            Poland|0.18443958100138663|\n",
      "|             Japan| 0.1727450423509364|\n",
      "|         Guatemala|0.17107439397230065|\n",
      "+------------------+-------------------+\n",
      "only showing top 20 rows\n",
      "\n",
      "Most frequent value in prev_state column: Not in universe\n",
      "Most frequent value in birth_country_father column: United-States\n",
      "Most frequent value in birth_country_mother column: United-States\n",
      "Most frequent value in birth_country_self column: United-States\n",
      "Verify results:\n",
      "+---------------+-------------------+\n",
      "|     prev_state|              count|\n",
      "+---------------+-------------------+\n",
      "|Not in universe|  92.50580550311575|\n",
      "|     California|  0.868068897539135|\n",
      "|           Utah| 0.5336050921362581|\n",
      "|        Florida| 0.4340344487695675|\n",
      "| North Carolina|0.40429690762985115|\n",
      "|         Abroad| 0.3127453764806121|\n",
      "|       Oklahoma|0.30806756102043203|\n",
      "|      Minnesota| 0.2903586882068931|\n",
      "|        Indiana|0.27732763085353423|\n",
      "|   North Dakota|0.24224401490218353|\n",
      "|     New Mexico|0.23088360592746046|\n",
      "|       Michigan| 0.2138429924653758|\n",
      "|         Alaska|0.13832968575103996|\n",
      "|        Arizona| 0.1269692767763169|\n",
      "|  New Hampshire|0.11961842391031959|\n",
      "|       Kentucky|0.11961842391031959|\n",
      "|       Colorado|0.11794777553168385|\n",
      "|         Oregon|0.11560886780159381|\n",
      "|        Wyoming| 0.1149406084501395|\n",
      "|        Georgia| 0.1129358303957766|\n",
      "+---------------+-------------------+\n",
      "only showing top 20 rows\n",
      "\n",
      "+--------------------+-------------------+\n",
      "|birth_country_father|              count|\n",
      "+--------------------+-------------------+\n",
      "|       United-States|   83.0890288520975|\n",
      "|              Mexico|  5.030656397747966|\n",
      "|         Puerto-Rico|   1.32582655328533|\n",
      "|               Italy| 1.1129859498471357|\n",
      "|              Canada| 0.6816245384833854|\n",
      "|             Germany|  0.669595870157208|\n",
      "|  Dominican-Republic| 0.6585695908582121|\n",
      "|              Poland| 0.6151327330136825|\n",
      "|         Philippines| 0.5830562841438762|\n",
      "|                Cuba| 0.5723641345206074|\n",
      "|         El-Salvador| 0.4958484387790902|\n",
      "|               China| 0.4183303540103914|\n",
      "|             England|0.39226823930367377|\n",
      "|            Columbia| 0.3020532268573433|\n",
      "|               India|0.29637302236998175|\n",
      "|             Ireland|  0.272315685717627|\n",
      "|         South Korea|0.26262592512153965|\n",
      "|             Jamaica| 0.2385685884691849|\n",
      "|           Guatemala|0.22620579046728037|\n",
      "|             Vietnam|0.22553753111582606|\n",
      "+--------------------+-------------------+\n",
      "only showing top 20 rows\n",
      "\n",
      "+--------------------+-------------------+\n",
      "|birth_country_mother|              count|\n",
      "+--------------------+-------------------+\n",
      "|       United-States|  83.42649982458192|\n",
      "|              Mexico|  4.934427051138547|\n",
      "|         Puerto-Rico| 1.2249193912157308|\n",
      "|               Italy| 0.9225320346826602|\n",
      "|              Canada| 0.7193811918405534|\n",
      "|             Germany|  0.687638872646474|\n",
      "|         Philippines| 0.6268272716641329|\n",
      "|                Cuba|  0.569356967439063|\n",
      "|              Poland| 0.5663498003575187|\n",
      "|         El-Salvador| 0.5486409275439798|\n",
      "|  Dominican-Republic| 0.5483067978682526|\n",
      "|             England| 0.4443924687171091|\n",
      "|               China|0.37689827422022487|\n",
      "|             Ireland| 0.3130795061563393|\n",
      "|         South Korea|0.30272148620879763|\n",
      "|            Columbia| 0.3010508378301619|\n",
      "|               India|0.29871193010007185|\n",
      "|               Japan| 0.2452511819837279|\n",
      "|             Vietnam|0.23723206976627628|\n",
      "|             Jamaica| 0.2352272917119134|\n",
      "+--------------------+-------------------+\n",
      "only showing top 20 rows\n",
      "\n",
      "+------------------+-------------------+\n",
      "|birth_country_self|              count|\n",
      "+------------------+-------------------+\n",
      "|     United-States|  90.38174315451826|\n",
      "|            Mexico|  2.907930567853384|\n",
      "|       Puerto-Rico| 0.6989992816211972|\n",
      "|       Philippines| 0.4340344487695675|\n",
      "|           Germany| 0.4246788178492073|\n",
      "|              Cuba|0.42267403979484436|\n",
      "|            Canada| 0.3494996408105986|\n",
      "|       El-Salvador| 0.3448218253504185|\n",
      "|Dominican-Republic|0.33980988021451125|\n",
      "|             China|  0.238902718144912|\n",
      "|       South Korea|0.23622968073909487|\n",
      "|           England| 0.2278764388459161|\n",
      "|             Italy|0.21551364084401156|\n",
      "|          Columbia|0.21551364084401156|\n",
      "|             India| 0.2091651770051957|\n",
      "|           Vietnam| 0.1914563041916568|\n",
      "|            Poland|0.18443958100138663|\n",
      "|             Japan| 0.1727450423509364|\n",
      "|         Guatemala|0.17107439397230065|\n",
      "|           Jamaica|0.16572831916066624|\n",
      "+------------------+-------------------+\n",
      "only showing top 20 rows\n",
      "\n",
      "Empty values count:\n"
     ]
    },
    {
     "name": "stdout",
     "output_type": "stream",
     "text": [
      "-RECORD 0-------------------\n",
      " prev_state           | 0.0 \n",
      " birth_country_father | 0.0 \n",
      " birth_country_mother | 0.0 \n",
      " birth_country_self   | 0.0 \n",
      "\n"
     ]
    }
   ],
   "source": [
    "# Deal wih remaining columns with empty values but smaller percentage\n",
    "prev_state_count = get_unique_values_percentage(\"prev_state\")\n",
    "\n",
    "birth_country_father_count = get_unique_values_percentage(\"birth_country_father\")\n",
    "\n",
    "birth_country_mother_count = get_unique_values_percentage(\"birth_country_mother\")\n",
    "\n",
    "birth_country_self_count = get_unique_values_percentage(\"birth_country_self\")\n",
    "\n",
    "print(\"prev_state column unique values count:\")\n",
    "prev_state_count.show()\n",
    "print(\"birth_country_father column unique values count:\")\n",
    "birth_country_father_count.show()\n",
    "print(\"birth_country_mother column unique values count:\")\n",
    "birth_country_mother_count.show()\n",
    "print(\"birth_country_self column unique values count:\")\n",
    "birth_country_self_count.show()\n",
    "\n",
    "# We will replace null values with the most frequent value in each column\n",
    "prev_state_most_freq = get_most_freq_value(prev_state_count, \"prev_state\")\n",
    "print(\"Most frequent value in prev_state column:\", prev_state_most_freq)\n",
    "\n",
    "birth_country_father_most_freq = get_most_freq_value(birth_country_father_count, \"birth_country_father\")\n",
    "print(\"Most frequent value in birth_country_father column:\", birth_country_father_most_freq)\n",
    "\n",
    "birth_country_mother_most_freq = get_most_freq_value(birth_country_mother_count, \"birth_country_mother\")\n",
    "print(\"Most frequent value in birth_country_mother column:\", birth_country_mother_most_freq)\n",
    "\n",
    "birth_country_self_most_freq = get_most_freq_value(birth_country_self_count, \"birth_country_self\")\n",
    "print(\"Most frequent value in birth_country_self column:\", birth_country_self_most_freq)\n",
    "\n",
    "# Replace null values\n",
    "spark_ds = replace_nulls(\"prev_state\", prev_state_most_freq)\n",
    "spark_ds = replace_nulls(\"birth_country_father\", birth_country_father_most_freq)\n",
    "spark_ds = replace_nulls(\"birth_country_mother\", birth_country_mother_most_freq)\n",
    "spark_ds = replace_nulls(\"birth_country_self\", birth_country_self_most_freq)\n",
    "\n",
    "print(\"Verify results:\")\n",
    "# verify results\n",
    "get_unique_values_percentage(\"prev_state\").show()\n",
    "get_unique_values_percentage(\"birth_country_father\").show()\n",
    "get_unique_values_percentage(\"birth_country_mother\").show()\n",
    "get_unique_values_percentage(\"birth_country_self\").show()\n",
    "print(\"Empty values count:\")\n",
    "spark_ds.select([(count(when((col(c).isNull()) | (col(c) == \"\"), c)) / DATASET_SIZE * 100)\\\n",
    "                 .alias(c) for c in cols_with_empty_vals]).show(vertical=True)\n"
   ]
  },
  {
   "cell_type": "code",
   "execution_count": 12,
   "metadata": {},
   "outputs": [
    {
     "name": "stdout",
     "output_type": "stream",
     "text": [
      "Final dataset shape: (299285, 37)\n"
     ]
    }
   ],
   "source": [
    "print(\"Final dataset shape: ({}, {})\".format(DATASET_SIZE, len(spark_ds.columns)))"
   ]
  },
  {
   "cell_type": "markdown",
   "metadata": {},
   "source": [
    "### Convert target variable (income) for binary classification problem"
   ]
  },
  {
   "cell_type": "code",
   "execution_count": 13,
   "metadata": {
    "scrolled": true
   },
   "outputs": [
    {
     "name": "stdout",
     "output_type": "stream",
     "text": [
      "+--------+-----------------+\n",
      "|  income|            count|\n",
      "+--------+-----------------+\n",
      "|- 50000.|93.79588018109828|\n",
      "| 50000+.|6.204119818901716|\n",
      "+--------+-----------------+\n",
      "\n",
      "Major label: - 50000.\n",
      "Minor label: 50000+.\n",
      "Verify results:\n",
      "+------+-----------------+\n",
      "|income|            count|\n",
      "+------+-----------------+\n",
      "|     0|93.79588018109828|\n",
      "|     1|6.204119818901716|\n",
      "+------+-----------------+\n",
      "\n"
     ]
    }
   ],
   "source": [
    "# Show percentage of each unique values in our target variable\n",
    "income_count = get_unique_values_percentage(\"income\")\n",
    "income_count.show()\n",
    "# We could see that around 94% of our data belongs to -50000 class (below 50$K dollar income/year)\n",
    "# This signifies a binary classification problem with imbalanced data\n",
    "# We will convert major label to be 0 (negative) and minor label to be 1 (positive)\n",
    "major_label = income_count.orderBy(desc(\"count\"))\\\n",
    "                .select(\"income\")\\\n",
    "                .collect()[0][\"income\"]\n",
    "minor_label = income_count.orderBy(desc(\"count\"))\\\n",
    "                .select(\"income\")\\\n",
    "                .collect()[1][\"income\"]\n",
    "\n",
    "print(\"Major label:\", major_label)\n",
    "print(\"Minor label:\", minor_label)\n",
    "\n",
    "# Convert to numeric\n",
    "spark_ds = spark_ds.withColumn(\"income\", \\\n",
    "         when(col(\"income\") == minor_label, 1).otherwise(0))\n",
    "# Convert income column to be numeric type (int)\n",
    "spark_ds = spark_ds.withColumn(\"income\", col(\"income\").cast(\"int\"))\n",
    "\n",
    "# verify results\n",
    "print(\"Verify results:\")\n",
    "get_unique_values_percentage(\"income\").show()"
   ]
  },
  {
   "cell_type": "markdown",
   "metadata": {},
   "source": [
    "## Exploration data analysis"
   ]
  },
  {
   "cell_type": "code",
   "execution_count": 14,
   "metadata": {},
   "outputs": [
    {
     "name": "stdout",
     "output_type": "stream",
     "text": [
      "Nominal columns: ['class_of_worker', 'industry_code', 'occupation_code', 'education', 'enrolled_in_edu_inst_last_wk', 'marital_status', 'major_industry_code', 'major_occupation_code', 'race', 'hispanic_origin', 'sex', 'mem_labour_union', 'unemployment_reason', 'employment_status', 'tax_filer_status', 'prev_region', 'prev_state', 'household_status', 'household_summary', 'live_in_this_house_one_year_ago', 'parent', 'birth_country_father', 'birth_country_mother', 'birth_country_self', 'citizenship', 'own_business', 'veteran_QA', 'veteran_benefits', 'year']\n",
      "There are 29 nominal columns.\n",
      "\n",
      "Numeric columns: ['age', 'wage_per_hr', 'capital_gain', 'capital_loss', 'stock_dividends', 'num_persons_for_employer', 'weeks_worked_in_yr']\n",
      "There are 7 numeric columns.\n"
     ]
    }
   ],
   "source": [
    "target_col = \"income\"\n",
    "nominal_cols = [x[0] for x in spark_ds.dtypes if x[1] == \"string\" and x[0] != target_col]\n",
    "numeric_cols = [x[0] for x in spark_ds.dtypes if x[1] != \"string\" and x[0] != target_col]\n",
    "\n",
    "print(\"Nominal columns:\", nominal_cols)\n",
    "print(\"There are {} nominal columns.\".format(len(nominal_cols)))\n",
    "print()\n",
    "print(\"Numeric columns:\", numeric_cols)\n",
    "print(\"There are {} numeric columns.\".format(len(numeric_cols)))"
   ]
  },
  {
   "cell_type": "markdown",
   "metadata": {},
   "source": [
    "We will explore numeric columns first, then move on to nominal columns. We will also try to only show columns with meaningful data because the total number of columns might be too large."
   ]
  },
  {
   "cell_type": "markdown",
   "metadata": {},
   "source": [
    "### Age"
   ]
  },
  {
   "cell_type": "markdown",
   "metadata": {},
   "source": [
    "#### General statistics"
   ]
  },
  {
   "cell_type": "code",
   "execution_count": 15,
   "metadata": {},
   "outputs": [
    {
     "name": "stdout",
     "output_type": "stream",
     "text": [
      "+-------+------------------+\n",
      "|summary|               age|\n",
      "+-------+------------------+\n",
      "|  count|            299285|\n",
      "|   mean|34.538997945102494|\n",
      "| stddev|22.318468266432593|\n",
      "|    min|                 0|\n",
      "|    max|                90|\n",
      "+-------+------------------+\n",
      "\n",
      "Median age: 33.0\n"
     ]
    }
   ],
   "source": [
    "spark_ds.select(\"age\").describe().show()\n",
    "median_age = spark_ds.approxQuantile(\"age\", [0.5], 0)[0]\n",
    "print(\"Median age:\", median_age)"
   ]
  },
  {
   "cell_type": "markdown",
   "metadata": {},
   "source": [
    "#### Plot\n",
    "We will plot histogram labeled by target column (i.e. income)."
   ]
  },
  {
   "cell_type": "code",
   "execution_count": 16,
   "metadata": {},
   "outputs": [
    {
     "data": {
      "image/png": "[encoded data removed]",
      "text/plain": [
       "<Figure size 864x576 with 1 Axes>"
      ]
     },
     "metadata": {
      "needs_background": "light"
     },
     "output_type": "display_data"
    }
   ],
   "source": [
    "age_0 = spark_ds.where(col(\"income\") == 0).select(\"age\").rdd.flatMap(lambda x: x).collect()\n",
    "age_1 = spark_ds.where(col(\"income\") == 1).select(\"age\").rdd.flatMap(lambda x: x).collect()\n",
    "\n",
    "plt.figure(figsize=(12,8))\n",
    "plt.hist(age_0, bins=50, label=\"Below $50K income\")\n",
    "plt.hist(age_1, bins=50, label=\"Above $50K income\")\n",
    "plt.legend()\n",
    "plt.grid()\n",
    "plt.title(\"Histogram of Age\")\n",
    "plt.xlabel('Age')\n",
    "plt.ylabel('Frequency')\n",
    "plt.show()"
   ]
  },
  {
   "cell_type": "markdown",
   "metadata": {},
   "source": [
    "- We can see that people who have above \\\\$50K income are more than 20 years old (age > 20).\n",
    "- Most of people who have > \\\\$50K+ income are from ~30 - ~60 years old.\n",
    "- The data distribution is slightly right-skewed. You can see that from the point of age 50 onwards, the frequency column's height is almost half.\n",
    "- More younger people (age < 50) takes part in the survey (census) than older people (age > 50)."
   ]
  },
  {
   "cell_type": "markdown",
   "metadata": {},
   "source": [
    "### Wage/hr"
   ]
  },
  {
   "cell_type": "markdown",
   "metadata": {},
   "source": [
    "#### General statistics"
   ]
  },
  {
   "cell_type": "code",
   "execution_count": 17,
   "metadata": {},
   "outputs": [],
   "source": [
    "# convert to dollars first (original data is in cents unit)\n",
    "converted_wage_per_hr = spark_ds.select((col(\"wage_per_hr\") / 100).alias(\"wage_per_hour ($)\"))"
   ]
  },
  {
   "cell_type": "code",
   "execution_count": 18,
   "metadata": {},
   "outputs": [
    {
     "name": "stdout",
     "output_type": "stream",
     "text": [
      "+-------+------------------+\n",
      "|summary| wage_per_hour ($)|\n",
      "+-------+------------------+\n",
      "|  count|            299285|\n",
      "|   mean|0.5510502698097132|\n",
      "| stddev|  2.73340728614754|\n",
      "|    min|               0.0|\n",
      "|    max|             99.99|\n",
      "+-------+------------------+\n",
      "\n",
      "Median wage/hr: 0.0\n"
     ]
    }
   ],
   "source": [
    "converted_wage_per_hr.describe().show()\n",
    "median_wage_per_hr = converted_wage_per_hr.approxQuantile(\"wage_per_hour ($)\", [0.5], 0)[0]\n",
    "print(\"Median wage/hr:\", median_wage_per_hr)"
   ]
  },
  {
   "cell_type": "markdown",
   "metadata": {},
   "source": [
    "#### Plot"
   ]
  },
  {
   "cell_type": "code",
   "execution_count": null,
   "metadata": {
    "scrolled": false
   },
   "outputs": [],
   "source": [
    "wage_per_hr_0 = spark_ds.where(col(\"income\") == 0).select(col(\"wage_per_hr\") / 100).rdd.flatMap(lambda x: x).collect()\n",
    "wage_per_hr_1 = spark_ds.where(col(\"income\") == 1).select(col(\"wage_per_hr\") / 100).rdd.flatMap(lambda x: x).collect()\n",
    "\n",
    "plt.figure(figsize=(12,8))\n",
    "plt.hist(wage_per_hr_0, bins=50, label=\"Below $50K income\")\n",
    "plt.hist(wage_per_hr_1, bins=50, label=\"Above $50K income\")\n",
    "plt.legend()\n",
    "plt.grid()\n",
    "plt.title(\"Histogram of wage/hr\")\n",
    "plt.xlabel('Wage/hr')\n",
    "plt.ylabel('Frequency')\n",
    "plt.show()"
   ]
  },
  {
   "cell_type": "markdown",
   "metadata": {},
   "source": [
    "- The data distribution is extremely right skewed. Most of the data's wage per hour is 0, meaning most of the people doing the survey does not have a job. We can also see that most of the people who have low wage/hr (below \\\\$20/hr) have below \\\\$50K+ income/yr.\n",
    "- Interestingly, most of people who have above \\$50k+ income (orange part), have wage/hr equals 0. This might mean they have a different source of income other than working or maybe the data might be corrupted."
   ]
  },
  {
   "cell_type": "markdown",
   "metadata": {},
   "source": [
    "### Capital loss, capital gain and stock dividends\n",
    "Like wage/hr column above, these columns also have extremely right-skewed data distribution, i.e. most of the data have value 0."
   ]
  },
  {
   "cell_type": "markdown",
   "metadata": {},
   "source": [
    "#### General statistics"
   ]
  },
  {
   "cell_type": "code",
   "execution_count": null,
   "metadata": {
    "scrolled": true
   },
   "outputs": [],
   "source": [
    "spark_ds.select(\"capital_loss\", \"capital_gain\", \"stock_dividends\").describe().show()\n",
    "median_capital_loss = spark_ds.approxQuantile(\"capital_loss\", [0.5], 0)[0]\n",
    "median_capital_gain = spark_ds.approxQuantile(\"capital_gain\", [0.5], 0)[0]\n",
    "median_stock_dividends = spark_ds.approxQuantile(\"stock_dividends\", [0.5], 0)[0]\n",
    "print(\"Median capital loss:\", median_capital_loss)\n",
    "print(\"Median capital gain:\", median_capital_gain)\n",
    "print(\"Median capital stock_dividends:\", median_stock_dividends)"
   ]
  },
  {
   "cell_type": "markdown",
   "metadata": {},
   "source": [
    "#### Plot"
   ]
  },
  {
   "cell_type": "code",
   "execution_count": null,
   "metadata": {},
   "outputs": [],
   "source": [
    "capital_loss_0 = spark_ds.where(col(\"income\") == 0).select(\"capital_loss\").rdd.flatMap(lambda x: x).collect()\n",
    "capital_loss_1 = spark_ds.where(col(\"income\") == 1).select(\"capital_loss\").rdd.flatMap(lambda x: x).collect()\n",
    "capital_gain_0 = spark_ds.where(col(\"income\") == 0).select(\"capital_gain\").rdd.flatMap(lambda x: x).collect()\n",
    "capital_gain_1 = spark_ds.where(col(\"income\") == 1).select(\"capital_gain\").rdd.flatMap(lambda x: x).collect()\n",
    "stock_0 = spark_ds.where(col(\"income\") == 0).select(\"stock_dividends\").rdd.flatMap(lambda x: x).collect()\n",
    "stock_1 = spark_ds.where(col(\"income\") == 1).select(\"stock_dividends\").rdd.flatMap(lambda x: x).collect()\n",
    "\n",
    "plt.figure(figsize=(12,12))\n",
    "# Capital loss histogram\n",
    "plt.subplot(2,2,1)\n",
    "plt.hist(capital_loss_0, bins=50, label=\"Below $50K income\")\n",
    "plt.hist(capital_loss_1, bins=50, label=\"Above $50K income\")\n",
    "plt.legend()\n",
    "plt.grid()\n",
    "plt.title(\"Histogram of Capital loss\")\n",
    "plt.xlabel('Capital loss')\n",
    "plt.ylabel('Frequency')\n",
    "\n",
    "# Capital gain histogram\n",
    "plt.subplot(2,2,2)\n",
    "plt.hist(capital_gain_0, bins=50, label=\"Below $50K income\")\n",
    "plt.hist(capital_gain_1, bins=50, label=\"Above $50K income\")\n",
    "plt.legend()\n",
    "plt.grid()\n",
    "plt.title(\"Histogram of Capital gain\")\n",
    "plt.xlabel('Capital gain')\n",
    "plt.ylabel('Frequency')\n",
    "\n",
    "# Stock dividends histogram\n",
    "plt.subplot(2,2,3)\n",
    "plt.hist(stock_0, bins=50, label=\"Below $50K income\")\n",
    "plt.hist(stock_1, bins=50, label=\"Above $50K income\")\n",
    "plt.legend()\n",
    "plt.grid()\n",
    "plt.title(\"Histogram of Stock dividends\")\n",
    "plt.xlabel('Stock dividends')\n",
    "plt.ylabel('Frequency')\n",
    "\n",
    "plt.show()"
   ]
  },
  {
   "cell_type": "markdown",
   "metadata": {},
   "source": [
    "### Weeks worked in year"
   ]
  },
  {
   "cell_type": "markdown",
   "metadata": {},
   "source": [
    "#### General statistics"
   ]
  },
  {
   "cell_type": "code",
   "execution_count": null,
   "metadata": {},
   "outputs": [],
   "source": [
    "spark_ds.select(\"weeks_worked_in_yr\").describe().show()\n",
    "median_weeks_worked_in_yr = spark_ds.approxQuantile(\"weeks_worked_in_yr\", [0.5], 0)[0]\n",
    "print(\"Median weeks worked in a year:\", median_weeks_worked_in_yr)"
   ]
  },
  {
   "cell_type": "markdown",
   "metadata": {},
   "source": [
    "#### Plot"
   ]
  },
  {
   "cell_type": "code",
   "execution_count": null,
   "metadata": {},
   "outputs": [],
   "source": [
    "weeks_worked_0 = spark_ds.where(col(\"income\") == 0).select(\"weeks_worked_in_yr\").rdd.flatMap(lambda x: x).collect()\n",
    "weeks_worked_1 = spark_ds.where(col(\"income\") == 1).select(\"weeks_worked_in_yr\").rdd.flatMap(lambda x: x).collect()\n",
    "\n",
    "plt.figure(figsize=(12,8))\n",
    "plt.hist(weeks_worked_0, bins=50, label=\"Below $50K income\")\n",
    "plt.hist(weeks_worked_1, bins=50, label=\"Above $50K income\")\n",
    "plt.legend()\n",
    "plt.grid()\n",
    "plt.title(\"Histogram of Weeks worked in 1 year\")\n",
    "plt.xlabel('Weeks worked in 1 year')\n",
    "plt.ylabel('Frequency')\n",
    "plt.show()"
   ]
  },
  {
   "cell_type": "markdown",
   "metadata": {},
   "source": [
    "- The data distribution is very interesting. Most of the people either do not work (i.e. 0 week) or work for a whole year (i.e. 52 weeks). \n",
    "- A smaller number of people works part time during the year (lower frequency bars in the middle of the plot)\n",
    "- We can clearly see that most of people who have above \\$50K+ income/yr works for a whole year (orange part in week 52 bar)."
   ]
  },
  {
   "cell_type": "markdown",
   "metadata": {},
   "source": [
    "### Scatter plot"
   ]
  },
  {
   "cell_type": "markdown",
   "metadata": {},
   "source": [
    "#### Age vs Wage/hr"
   ]
  },
  {
   "cell_type": "code",
   "execution_count": null,
   "metadata": {},
   "outputs": [],
   "source": [
    "plt.figure(figsize=(12,8))\n",
    "plt.scatter(age_0, wage_per_hr_0, label=\"Below $50K income\")\n",
    "plt.scatter(age_1, wage_per_hr_1, label=\"Above $50K income\")\n",
    "plt.legend()\n",
    "plt.grid()\n",
    "plt.title(\"Scatter of Age vs Wage/hr\")\n",
    "plt.xlabel('Age')\n",
    "plt.ylabel('Wage/hr')\n",
    "plt.show()"
   ]
  },
  {
   "cell_type": "markdown",
   "metadata": {},
   "source": [
    "- We can see that most of the people who have above \\\\$50k+ income have wage/hr < \\\\$40/hr.\n",
    "- Above the threshold of \\\\$40 wage/hr, there are more people (\\*) with <50$K+ income than people with >\\\\$50K+ income. These people (\\*) probably worked part time instead of full-time."
   ]
  },
  {
   "cell_type": "markdown",
   "metadata": {},
   "source": [
    "####  Age vs Capital gain"
   ]
  },
  {
   "cell_type": "code",
   "execution_count": null,
   "metadata": {},
   "outputs": [],
   "source": [
    "plt.figure(figsize=(12,8))\n",
    "plt.scatter(age_0, capital_gain_0, label=\"Below $50K income\")\n",
    "plt.scatter(age_1, capital_gain_1, label=\"Above $50K income\")\n",
    "plt.legend()\n",
    "plt.grid()\n",
    "plt.title(\"Scatter of Age vs Capital gain\")\n",
    "plt.xlabel('Age')\n",
    "plt.ylabel('Capital gain')\n",
    "plt.show()"
   ]
  },
  {
   "cell_type": "markdown",
   "metadata": {},
   "source": [
    "- We can see most of the people have capital gain below \\\\$40K. Capital gain below \\\\$40K does not necessarily mean that your income will be lower than \\\\$50K, but really high capital gain as we can see (around \\\\$100K) will result in >\\\\$50K+ income."
   ]
  },
  {
   "cell_type": "markdown",
   "metadata": {},
   "source": [
    "#### Age vs Capital loss"
   ]
  },
  {
   "cell_type": "code",
   "execution_count": null,
   "metadata": {},
   "outputs": [],
   "source": [
    "plt.figure(figsize=(12,8))\n",
    "plt.scatter(age_0, capital_loss_0, label=\"Below $50K income\")\n",
    "plt.scatter(age_1, capital_loss_1, label=\"Above $50K income\")\n",
    "plt.legend()\n",
    "plt.grid()\n",
    "plt.title(\"Scatter of Age vs Capital loss\")\n",
    "plt.xlabel('Age')\n",
    "plt.ylabel('Capital loss')\n",
    "plt.show()"
   ]
  },
  {
   "cell_type": "markdown",
   "metadata": {},
   "source": [
    "- We can see that almost all people with above $50K+ income have capital loss lower than \\\\$3000.\n",
    "- Intuitively, people who have a high capital loss, i.e. above \\\\$3K, tend to have below \\\\$50K+ income."
   ]
  },
  {
   "cell_type": "markdown",
   "metadata": {},
   "source": [
    "#### Age vs stock dividends"
   ]
  },
  {
   "cell_type": "code",
   "execution_count": null,
   "metadata": {},
   "outputs": [],
   "source": [
    "plt.figure(figsize=(12,8))\n",
    "plt.scatter(age_0, stock_0, label=\"Below $50K income\")\n",
    "plt.scatter(age_1, stock_1, label=\"Above $50K income\")\n",
    "plt.legend()\n",
    "plt.grid()\n",
    "plt.title(\"Scatter of Age vs Stock dividends\")\n",
    "plt.xlabel('Age')\n",
    "plt.ylabel('Stock dividends')\n",
    "plt.show()"
   ]
  },
  {
   "cell_type": "markdown",
   "metadata": {},
   "source": [
    "- Below the threshold of \\\\$40K stock dividends, there are both type of income, either above or below \\\\$50K.\n",
    "- Above the threshold of \\\\$40K stock dividends, there are only people with income above $50K."
   ]
  },
  {
   "cell_type": "markdown",
   "metadata": {},
   "source": [
    "### Nominal columns\n",
    "We will mainly use stacked bar plot labeled by income for nominal columns to visualize our data."
   ]
  },
  {
   "cell_type": "code",
   "execution_count": null,
   "metadata": {},
   "outputs": [],
   "source": [
    "# cat_train[cat_train.income_encode == 0].class_of_worker.value_counts().plot(kind='bar', label=\"0\", color=\"blue\")\n",
    "# cat_train[cat_train.income_encode == 1].class_of_worker.value_counts().plot(kind='bar', label=\"1\", color=\"red\")\n",
    "# plt.legend()\n",
    "# plt.grid()\n",
    "# plt.title(\"Histogram of class of worker\")\n",
    "# plt.xlabel('Class of Worker')\n",
    "# plt.ylabel('Frequency')"
   ]
  },
  {
   "cell_type": "code",
   "execution_count": null,
   "metadata": {},
   "outputs": [],
   "source": []
  },
  {
   "cell_type": "code",
   "execution_count": null,
   "metadata": {},
   "outputs": [],
   "source": []
  },
  {
   "cell_type": "markdown",
   "metadata": {},
   "source": [
    "## Pyspark MLlib process"
   ]
  },
  {
   "cell_type": "markdown",
   "metadata": {},
   "source": [
    "### Data preprocessing pipelines\n",
    "The preprocessing pipeline will make sure that the features are converted correctly to be put into the ML classifier. This will include:\n",
    "1. Standardize (z-score) numeric columns\n",
    "2. For categorical columns:\n",
    "    2.1. First, use StringIndexer to convert categorical columns to be numeric.\n",
    "    2.2. Second, use OneHotEncoderEstimator to one hot encode the output of (2.1)\n",
    "3. Use VectorAssembler to combine all columns we have to a single svector column called \"features\". This will be the input to our ML classifier later"
   ]
  },
  {
   "cell_type": "code",
   "execution_count": null,
   "metadata": {},
   "outputs": [],
   "source": [
    "# Preprocessing data pipelines: includes "
   ]
  },
  {
   "cell_type": "code",
   "execution_count": null,
   "metadata": {},
   "outputs": [],
   "source": []
  },
  {
   "cell_type": "code",
   "execution_count": null,
   "metadata": {},
   "outputs": [],
   "source": []
  },
  {
   "cell_type": "code",
   "execution_count": null,
   "metadata": {},
   "outputs": [],
   "source": []
  },
  {
   "cell_type": "code",
   "execution_count": null,
   "metadata": {},
   "outputs": [],
   "source": []
  },
  {
   "cell_type": "code",
   "execution_count": null,
   "metadata": {},
   "outputs": [],
   "source": []
  },
  {
   "cell_type": "markdown",
   "metadata": {},
   "source": [
    "### Convert to pandas dataframe"
   ]
  },
  {
   "cell_type": "code",
   "execution_count": null,
   "metadata": {},
   "outputs": [],
   "source": [
    "import pandas as pd\n",
    "pd.set_option('display.max_columns', 50)\n",
    "# Pandas dataframe\n",
    "pd_dataset = spark_ds.toPandas()\n",
    "# To get train and test set\n",
    "pd_train = pd_dataset.iloc[:TRAIN_SIZE, :]\n",
    "pd_test = pd_dataset.iloc[TRAIN_SIZE:, :]\n",
    "\n",
    "pd_train.shape\n",
    "pd_test.shape"
   ]
  },
  {
   "cell_type": "code",
   "execution_count": null,
   "metadata": {},
   "outputs": [],
   "source": [
    "pd_dataset.head()"
   ]
  },
  {
   "cell_type": "code",
   "execution_count": null,
   "metadata": {},
   "outputs": [],
   "source": [
    "# verify that there are no missing values :)\n",
    "pd_dataset.isnull().sum().sort_values(ascending=False)"
   ]
  }
 ],
 "metadata": {
  "kernelspec": {
   "display_name": "Python 3",
   "language": "python",
   "name": "python3"
  },
  "language_info": {
   "codemirror_mode": {
    "name": "ipython",
    "version": 3
   },
   "file_extension": ".py",
   "mimetype": "text/x-python",
   "name": "python",
   "nbconvert_exporter": "python",
   "pygments_lexer": "ipython3",
   "version": "3.7.3"
  }
 },
 "nbformat": 4,
 "nbformat_minor": 2
}
